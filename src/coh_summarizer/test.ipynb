{
 "cells": [
  {
   "cell_type": "code",
   "execution_count": 1,
   "metadata": {},
   "outputs": [],
   "source": [
    "from summarizer import Summarizer\n",
    "import numpy as np\n",
    "import pandas as pd"
   ]
  },
  {
   "cell_type": "code",
   "execution_count": 2,
   "metadata": {},
   "outputs": [],
   "source": [
    "data = pd.read_csv('linki_drastyczne_neutral_zescrapowane.csv')"
   ]
  },
  {
   "cell_type": "code",
   "execution_count": 10,
   "metadata": {},
   "outputs": [
    {
     "data": {
      "text/plain": [
       "4174"
      ]
     },
     "execution_count": 10,
     "metadata": {},
     "output_type": "execute_result"
    }
   ],
   "source": [
    "len(data)"
   ]
  },
  {
   "cell_type": "code",
   "execution_count": 6,
   "metadata": {},
   "outputs": [
    {
     "name": "stdout",
     "output_type": "stream",
     "text": [
      "2023-05-31 16:10:20,513 - summarizer - INFO - Loading model...\n",
      "2023-05-31 16:10:24,288 - summarizer - INFO - Model loaded\n"
     ]
    }
   ],
   "source": [
    "summ = Summarizer()"
   ]
  },
  {
   "cell_type": "code",
   "execution_count": 12,
   "metadata": {},
   "outputs": [
    {
     "name": "stdout",
     "output_type": "stream",
     "text": [
      "0\n",
      "200\n",
      "400\n",
      "600\n",
      "800\n",
      "1000\n",
      "1200\n",
      "1400\n",
      "1600\n",
      "1800\n",
      "2000\n",
      "2200\n",
      "2400\n",
      "2600\n",
      "2800\n",
      "3000\n",
      "3200\n",
      "3400\n",
      "3600\n",
      "3800\n",
      "4000\n"
     ]
    }
   ],
   "source": [
    "summaries = list()\n",
    "for i, text in enumerate(data['text']):\n",
    "    try:\n",
    "        summary = summ.summarize(text, 350, 'chars', alg_type='lemmas')['summary']\n",
    "    except:\n",
    "        try:\n",
    "            summary = summ.summarize(text, 500, 'chars', alg_type='lemmas')['summary']\n",
    "        except:\n",
    "            try:\n",
    "                summary = summ.summarize(text, 1000, 'chars', alg_type='lemmas')['summary']\n",
    "            except:\n",
    "                summary = ''\n",
    "    summaries.append(summary)\n",
    "    if i%200==0: print(i)\n",
    "data['summaries'] = summaries"
   ]
  },
  {
   "cell_type": "code",
   "execution_count": 13,
   "metadata": {},
   "outputs": [],
   "source": [
    "data.to_csv('kinga3.csv')"
   ]
  },
  {
   "cell_type": "code",
   "execution_count": 14,
   "metadata": {},
   "outputs": [
    {
     "data": {
      "text/plain": [
       "' Do pierwszych scen kłótni doszło jeszcze na murawie, a swój sprzeciw i niezadowolenie z decyzji władz wyraził Joshua Kimmich, co błyskawicznie podchwyciły hiszpańskie media. Joshua Kimmich wyraził spory sprzeciw wobec odwołania Olivera Kahna i Hasana Salihamidzicia.'"
      ]
     },
     "execution_count": 14,
     "metadata": {},
     "output_type": "execute_result"
    }
   ],
   "source": [
    "summaries[0]"
   ]
  },
  {
   "cell_type": "code",
   "execution_count": null,
   "metadata": {},
   "outputs": [],
   "source": []
  }
 ],
 "metadata": {
  "kernelspec": {
   "display_name": "env",
   "language": "python",
   "name": "python3"
  },
  "language_info": {
   "codemirror_mode": {
    "name": "ipython",
    "version": 3
   },
   "file_extension": ".py",
   "mimetype": "text/x-python",
   "name": "python",
   "nbconvert_exporter": "python",
   "pygments_lexer": "ipython3",
   "version": "3.9.9"
  },
  "orig_nbformat": 4
 },
 "nbformat": 4,
 "nbformat_minor": 2
}
